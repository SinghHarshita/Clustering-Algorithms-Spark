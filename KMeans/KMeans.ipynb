{
  "nbformat": 4,
  "nbformat_minor": 0,
  "metadata": {
    "colab": {
      "name": "KMeans.ipynb",
      "provenance": []
    },
    "kernelspec": {
      "name": "python3",
      "display_name": "Python 3"
    },
    "language_info": {
      "name": "python"
    }
  },
  "cells": [
    {
      "cell_type": "code",
      "metadata": {
        "colab": {
          "base_uri": "https://localhost:8080/"
        },
        "id": "YxRSS6fd1hdq",
        "outputId": "930938ee-5e29-4632-e77e-da70853735a3"
      },
      "source": [
        "from google.colab import drive\n",
        "drive.mount('/content/drive')"
      ],
      "execution_count": null,
      "outputs": [
        {
          "output_type": "stream",
          "text": [
            "Mounted at /content/drive\n"
          ],
          "name": "stdout"
        }
      ]
    },
    {
      "cell_type": "code",
      "metadata": {
        "colab": {
          "base_uri": "https://localhost:8080/"
        },
        "id": "u25JOs-p11qI",
        "outputId": "d68672a6-e1bc-4e72-e410-4354b475c4a9"
      },
      "source": [
        "!apt-get update\n",
        "!apt-get install openjdk-8-jdk-headless -qq > /dev/null\n",
        "!wget -q https://downloads.apache.org/spark/spark-2.4.7/spark-2.4.7-bin-hadoop2.7.tgz\n",
        "!tar xf spark-2.4.7-bin-hadoop2.7.tgz\n",
        "!pip install -q findspark"
      ],
      "execution_count": null,
      "outputs": [
        {
          "output_type": "stream",
          "text": [
            "\r0% [Working]\r            \rGet:1 http://security.ubuntu.com/ubuntu bionic-security InRelease [88.7 kB]\n",
            "\r0% [Connecting to archive.ubuntu.com] [1 InRelease 14.2 kB/88.7 kB 16%] [Connec\r                                                                               \rGet:2 https://cloud.r-project.org/bin/linux/ubuntu bionic-cran40/ InRelease [3,626 B]\n",
            "\r0% [Connecting to archive.ubuntu.com] [1 InRelease 43.1 kB/88.7 kB 49%] [2 InRe\r0% [Connecting to archive.ubuntu.com] [1 InRelease 57.6 kB/88.7 kB 65%] [Connec\r0% [2 InRelease gpgv 3,626 B] [Connecting to archive.ubuntu.com (91.189.88.142)\r0% [2 InRelease gpgv 3,626 B] [Connecting to archive.ubuntu.com (91.189.88.142)\r                                                                               \rIgn:3 https://developer.download.nvidia.com/compute/cuda/repos/ubuntu1804/x86_64  InRelease\n",
            "\r0% [2 InRelease gpgv 3,626 B] [Connecting to archive.ubuntu.com (91.189.88.142)\r                                                                               \rGet:4 http://ppa.launchpad.net/c2d4u.team/c2d4u4.0+/ubuntu bionic InRelease [15.9 kB]\n",
            "\r0% [2 InRelease gpgv 3,626 B] [Connecting to archive.ubuntu.com (91.189.88.142)\r                                                                               \rIgn:5 https://developer.download.nvidia.com/compute/machine-learning/repos/ubuntu1804/x86_64  InRelease\n",
            "\r0% [2 InRelease gpgv 3,626 B] [Connecting to archive.ubuntu.com (91.189.88.142)\r                                                                               \rGet:6 https://developer.download.nvidia.com/compute/cuda/repos/ubuntu1804/x86_64  Release [697 B]\n",
            "\r0% [2 InRelease gpgv 3,626 B] [Waiting for headers] [4 InRelease 8,364 B/15.9 k\r0% [2 InRelease gpgv 3,626 B] [Waiting for headers] [4 InRelease 8,364 B/15.9 k\r                                                                               \rHit:7 https://developer.download.nvidia.com/compute/machine-learning/repos/ubuntu1804/x86_64  Release\n",
            "\r0% [2 InRelease gpgv 3,626 B] [Waiting for headers] [4 InRelease 11.3 kB/15.9 k\r                                                                               \rGet:8 https://developer.download.nvidia.com/compute/cuda/repos/ubuntu1804/x86_64  Release.gpg [836 B]\n",
            "Hit:9 http://archive.ubuntu.com/ubuntu bionic InRelease\n",
            "Get:10 http://archive.ubuntu.com/ubuntu bionic-updates InRelease [88.7 kB]\n",
            "Get:11 https://cloud.r-project.org/bin/linux/ubuntu bionic-cran40/ Packages [53.1 kB]\n",
            "Hit:12 http://ppa.launchpad.net/cran/libgit2/ubuntu bionic InRelease\n",
            "Hit:13 http://ppa.launchpad.net/deadsnakes/ppa/ubuntu bionic InRelease\n",
            "Get:14 http://archive.ubuntu.com/ubuntu bionic-backports InRelease [74.6 kB]\n",
            "Get:15 http://security.ubuntu.com/ubuntu bionic-security/restricted amd64 Packages [396 kB]\n",
            "Hit:16 http://ppa.launchpad.net/graphics-drivers/ppa/ubuntu bionic InRelease\n",
            "Get:17 http://security.ubuntu.com/ubuntu bionic-security/multiverse amd64 Packages [24.7 kB]\n",
            "Get:18 http://security.ubuntu.com/ubuntu bionic-security/universe amd64 Packages [1,410 kB]\n",
            "Get:19 http://security.ubuntu.com/ubuntu bionic-security/main amd64 Packages [2,116 kB]\n",
            "Ign:21 https://developer.download.nvidia.com/compute/cuda/repos/ubuntu1804/x86_64  Packages\n",
            "Get:21 https://developer.download.nvidia.com/compute/cuda/repos/ubuntu1804/x86_64  Packages [742 kB]\n",
            "Get:22 http://ppa.launchpad.net/c2d4u.team/c2d4u4.0+/ubuntu bionic/main Sources [1,757 kB]\n",
            "Get:23 http://ppa.launchpad.net/c2d4u.team/c2d4u4.0+/ubuntu bionic/main amd64 Packages [899 kB]\n",
            "Get:24 http://archive.ubuntu.com/ubuntu bionic-updates/universe amd64 Packages [2,181 kB]\n",
            "Get:25 http://archive.ubuntu.com/ubuntu bionic-updates/multiverse amd64 Packages [31.6 kB]\n",
            "Get:26 http://archive.ubuntu.com/ubuntu bionic-updates/main amd64 Packages [2,546 kB]\n",
            "Get:27 http://archive.ubuntu.com/ubuntu bionic-updates/restricted amd64 Packages [426 kB]\n",
            "Fetched 12.9 MB in 4s (3,419 kB/s)\n",
            "Reading package lists... Done\n"
          ],
          "name": "stdout"
        }
      ]
    },
    {
      "cell_type": "code",
      "metadata": {
        "id": "rN3K8m6V1sdT"
      },
      "source": [
        "import os\n",
        "os.environ[\"JAVA_HOME\"] = \"/usr/lib/jvm/java-1.8.0-openjdk-amd64\"\n",
        "os.environ[\"SPARK_HOME\"] = \"/content/spark-2.4.7-bin-hadoop2.7\""
      ],
      "execution_count": null,
      "outputs": []
    },
    {
      "cell_type": "code",
      "metadata": {
        "id": "912NsgYY1uyK"
      },
      "source": [
        "import findspark\n",
        "findspark.init()"
      ],
      "execution_count": null,
      "outputs": []
    },
    {
      "cell_type": "code",
      "metadata": {
        "id": "6mPlTG592cjM"
      },
      "source": [
        "from pyspark import SparkContext\n",
        "from pyspark.sql import SparkSession\n",
        "sc = SparkContext('local[*]')\n",
        "spark = SparkSession(sc)"
      ],
      "execution_count": null,
      "outputs": []
    },
    {
      "cell_type": "code",
      "metadata": {
        "id": "AHRWxIKD1Vbb"
      },
      "source": [
        "# Loading pyspark libraries for KMeans\n",
        "from pyspark.ml.clustering import KMeans\n",
        "from pyspark.ml.evaluation import ClusteringEvaluator"
      ],
      "execution_count": null,
      "outputs": []
    },
    {
      "cell_type": "code",
      "metadata": {
        "id": "YUhYUwGR1cBl"
      },
      "source": [
        "# Loading other required libraries\n",
        "import pandas as pd\n",
        "import numpy as np\n",
        "import matplotlib.pyplot as plt"
      ],
      "execution_count": null,
      "outputs": []
    },
    {
      "cell_type": "code",
      "metadata": {
        "colab": {
          "base_uri": "https://localhost:8080/",
          "height": 195
        },
        "id": "tSrfh8kN2NSB",
        "outputId": "b034513f-d5f4-4213-fac4-65a5380758d4"
      },
      "source": [
        "# Loading dataset\n",
        "df = pd.read_csv(\"Mall_Customers.csv\")\n",
        "df.head()"
      ],
      "execution_count": null,
      "outputs": [
        {
          "output_type": "execute_result",
          "data": {
            "text/html": [
              "<div>\n",
              "<style scoped>\n",
              "    .dataframe tbody tr th:only-of-type {\n",
              "        vertical-align: middle;\n",
              "    }\n",
              "\n",
              "    .dataframe tbody tr th {\n",
              "        vertical-align: top;\n",
              "    }\n",
              "\n",
              "    .dataframe thead th {\n",
              "        text-align: right;\n",
              "    }\n",
              "</style>\n",
              "<table border=\"1\" class=\"dataframe\">\n",
              "  <thead>\n",
              "    <tr style=\"text-align: right;\">\n",
              "      <th></th>\n",
              "      <th>CustomerID</th>\n",
              "      <th>Gender</th>\n",
              "      <th>Age</th>\n",
              "      <th>Annual Income (k$)</th>\n",
              "      <th>Spending Score (1-100)</th>\n",
              "    </tr>\n",
              "  </thead>\n",
              "  <tbody>\n",
              "    <tr>\n",
              "      <th>0</th>\n",
              "      <td>1</td>\n",
              "      <td>Male</td>\n",
              "      <td>19</td>\n",
              "      <td>15</td>\n",
              "      <td>39</td>\n",
              "    </tr>\n",
              "    <tr>\n",
              "      <th>1</th>\n",
              "      <td>2</td>\n",
              "      <td>Male</td>\n",
              "      <td>21</td>\n",
              "      <td>15</td>\n",
              "      <td>81</td>\n",
              "    </tr>\n",
              "    <tr>\n",
              "      <th>2</th>\n",
              "      <td>3</td>\n",
              "      <td>Female</td>\n",
              "      <td>20</td>\n",
              "      <td>16</td>\n",
              "      <td>6</td>\n",
              "    </tr>\n",
              "    <tr>\n",
              "      <th>3</th>\n",
              "      <td>4</td>\n",
              "      <td>Female</td>\n",
              "      <td>23</td>\n",
              "      <td>16</td>\n",
              "      <td>77</td>\n",
              "    </tr>\n",
              "    <tr>\n",
              "      <th>4</th>\n",
              "      <td>5</td>\n",
              "      <td>Female</td>\n",
              "      <td>31</td>\n",
              "      <td>17</td>\n",
              "      <td>40</td>\n",
              "    </tr>\n",
              "  </tbody>\n",
              "</table>\n",
              "</div>"
            ],
            "text/plain": [
              "   CustomerID  Gender  Age  Annual Income (k$)  Spending Score (1-100)\n",
              "0           1    Male   19                  15                      39\n",
              "1           2    Male   21                  15                      81\n",
              "2           3  Female   20                  16                       6\n",
              "3           4  Female   23                  16                      77\n",
              "4           5  Female   31                  17                      40"
            ]
          },
          "metadata": {
            "tags": []
          },
          "execution_count": 13
        }
      ]
    },
    {
      "cell_type": "code",
      "metadata": {
        "id": "7j1Hfl7O2R72"
      },
      "source": [
        "# Encoding Gender\n",
        "def change_gender(item):\n",
        "    if item == \"Male\":\n",
        "        return 0\n",
        "    else:\n",
        "        return 1\n",
        "\n",
        "df[\"Gender\"] = df[\"Gender\"].apply(change_gender,1)\n",
        "df = df[[\"Gender\",\"Age\",\"Annual Income (k$)\",\"Spending Score (1-100)\"]]"
      ],
      "execution_count": null,
      "outputs": []
    },
    {
      "cell_type": "code",
      "metadata": {
        "id": "oqQDGSpt2V9A"
      },
      "source": [
        "# Converting pandas dataframe into spark dataframe\n",
        "from pyspark.sql.types import StructType, StructField, NumericType\n",
        "spark_df = spark.createDataFrame(df)"
      ],
      "execution_count": null,
      "outputs": []
    },
    {
      "cell_type": "code",
      "metadata": {
        "colab": {
          "base_uri": "https://localhost:8080/"
        },
        "id": "M7s4KRrh2X60",
        "outputId": "9208d855-38a0-4693-985e-6fb8f00da409"
      },
      "source": [
        "from pyspark.ml.feature import VectorAssembler\n",
        "features = tuple(df.columns)\n",
        "features"
      ],
      "execution_count": null,
      "outputs": [
        {
          "output_type": "execute_result",
          "data": {
            "text/plain": [
              "('Gender', 'Age', 'Annual Income (k$)', 'Spending Score (1-100)')"
            ]
          },
          "metadata": {
            "tags": []
          },
          "execution_count": 26
        }
      ]
    },
    {
      "cell_type": "code",
      "metadata": {
        "colab": {
          "base_uri": "https://localhost:8080/"
        },
        "id": "x60nF6SA24A5",
        "outputId": "7095855f-0d68-4c7a-b7ea-329eec45dae7"
      },
      "source": [
        "# Making a spark dataframe\n",
        "assembler = VectorAssembler(inputCols=features,outputCol=\"features\")\n",
        "dataset = assembler.transform(spark_df)\n",
        "dataset.select(\"features\").show(truncate=False)"
      ],
      "execution_count": null,
      "outputs": [
        {
          "output_type": "stream",
          "text": [
            "+--------------------+\n",
            "|features            |\n",
            "+--------------------+\n",
            "|[0.0,19.0,15.0,39.0]|\n",
            "|[0.0,21.0,15.0,81.0]|\n",
            "|[1.0,20.0,16.0,6.0] |\n",
            "|[1.0,23.0,16.0,77.0]|\n",
            "|[1.0,31.0,17.0,40.0]|\n",
            "|[1.0,22.0,17.0,76.0]|\n",
            "|[1.0,35.0,18.0,6.0] |\n",
            "|[1.0,23.0,18.0,94.0]|\n",
            "|[0.0,64.0,19.0,3.0] |\n",
            "|[1.0,30.0,19.0,72.0]|\n",
            "|[0.0,67.0,19.0,14.0]|\n",
            "|[1.0,35.0,19.0,99.0]|\n",
            "|[1.0,58.0,20.0,15.0]|\n",
            "|[1.0,24.0,20.0,77.0]|\n",
            "|[0.0,37.0,20.0,13.0]|\n",
            "|[0.0,22.0,20.0,79.0]|\n",
            "|[1.0,35.0,21.0,35.0]|\n",
            "|[0.0,20.0,21.0,66.0]|\n",
            "|[0.0,52.0,23.0,29.0]|\n",
            "|[1.0,35.0,23.0,98.0]|\n",
            "+--------------------+\n",
            "only showing top 20 rows\n",
            "\n"
          ],
          "name": "stdout"
        }
      ]
    },
    {
      "cell_type": "code",
      "metadata": {
        "colab": {
          "base_uri": "https://localhost:8080/"
        },
        "id": "yLxD7OGc27U3",
        "outputId": "c3cea85e-bbc1-4723-b96d-c62a3fdbf807"
      },
      "source": [
        "# Creating KMeans \n",
        "kmeans = KMeans().setK(5).setSeed(42)\n",
        "model = kmeans.fit(dataset)\n",
        "\n",
        "predictions = model.transform(dataset)\n",
        "evaluator = ClusteringEvaluator()\n",
        "\n",
        "silhouette = evaluator.evaluate(predictions)\n",
        "print(\"Silhouetter with squared euclidean distance = {}\".format(silhouette))\n",
        "\n",
        "cost = model.computeCost(dataset)\n",
        "print(\"Within set sum of squared errors = {}\".format(cost))\n",
        "\n",
        "print(\"Cluster Centers: \")\n",
        "ctr = []\n",
        "centers = model.clusterCenters()\n",
        "\n",
        "for center in centers:\n",
        "    ctr.append(center)\n",
        "    print(center)"
      ],
      "execution_count": null,
      "outputs": [
        {
          "output_type": "stream",
          "text": [
            "Silhouetter with squared euclidean distance = 0.587334158384376\n",
            "Within set sum of squared errors = 79501.91330865488\n",
            "Cluster Centers: \n",
            "[ 0.56818182 24.45454545 39.         65.65909091]\n",
            "[ 0.60344828 50.89655172 55.5        48.77586207]\n",
            "[ 0.48648649 40.32432432 87.43243243 18.18918919]\n",
            "[ 0.53846154 32.69230769 86.53846154 82.12820513]\n",
            "[ 0.59090909 44.31818182 25.77272727 20.27272727]\n"
          ],
          "name": "stdout"
        }
      ]
    },
    {
      "cell_type": "code",
      "metadata": {
        "colab": {
          "base_uri": "https://localhost:8080/",
          "height": 195
        },
        "id": "3Rsc9Buq3Afl",
        "outputId": "8280b039-c677-4031-e763-10d3f0977cac"
      },
      "source": [
        "centers = pd.DataFrame(ctr,columns=features)\n",
        "centers.head()"
      ],
      "execution_count": null,
      "outputs": [
        {
          "output_type": "execute_result",
          "data": {
            "text/html": [
              "<div>\n",
              "<style scoped>\n",
              "    .dataframe tbody tr th:only-of-type {\n",
              "        vertical-align: middle;\n",
              "    }\n",
              "\n",
              "    .dataframe tbody tr th {\n",
              "        vertical-align: top;\n",
              "    }\n",
              "\n",
              "    .dataframe thead th {\n",
              "        text-align: right;\n",
              "    }\n",
              "</style>\n",
              "<table border=\"1\" class=\"dataframe\">\n",
              "  <thead>\n",
              "    <tr style=\"text-align: right;\">\n",
              "      <th></th>\n",
              "      <th>Gender</th>\n",
              "      <th>Age</th>\n",
              "      <th>Annual Income (k$)</th>\n",
              "      <th>Spending Score (1-100)</th>\n",
              "    </tr>\n",
              "  </thead>\n",
              "  <tbody>\n",
              "    <tr>\n",
              "      <th>0</th>\n",
              "      <td>0.568182</td>\n",
              "      <td>24.454545</td>\n",
              "      <td>39.000000</td>\n",
              "      <td>65.659091</td>\n",
              "    </tr>\n",
              "    <tr>\n",
              "      <th>1</th>\n",
              "      <td>0.603448</td>\n",
              "      <td>50.896552</td>\n",
              "      <td>55.500000</td>\n",
              "      <td>48.775862</td>\n",
              "    </tr>\n",
              "    <tr>\n",
              "      <th>2</th>\n",
              "      <td>0.486486</td>\n",
              "      <td>40.324324</td>\n",
              "      <td>87.432432</td>\n",
              "      <td>18.189189</td>\n",
              "    </tr>\n",
              "    <tr>\n",
              "      <th>3</th>\n",
              "      <td>0.538462</td>\n",
              "      <td>32.692308</td>\n",
              "      <td>86.538462</td>\n",
              "      <td>82.128205</td>\n",
              "    </tr>\n",
              "    <tr>\n",
              "      <th>4</th>\n",
              "      <td>0.590909</td>\n",
              "      <td>44.318182</td>\n",
              "      <td>25.772727</td>\n",
              "      <td>20.272727</td>\n",
              "    </tr>\n",
              "  </tbody>\n",
              "</table>\n",
              "</div>"
            ],
            "text/plain": [
              "     Gender        Age  Annual Income (k$)  Spending Score (1-100)\n",
              "0  0.568182  24.454545           39.000000               65.659091\n",
              "1  0.603448  50.896552           55.500000               48.775862\n",
              "2  0.486486  40.324324           87.432432               18.189189\n",
              "3  0.538462  32.692308           86.538462               82.128205\n",
              "4  0.590909  44.318182           25.772727               20.272727"
            ]
          },
          "metadata": {
            "tags": []
          },
          "execution_count": 29
        }
      ]
    },
    {
      "cell_type": "code",
      "metadata": {
        "colab": {
          "base_uri": "https://localhost:8080/",
          "height": 195
        },
        "id": "Av-_IePF3GWh",
        "outputId": "aa84949d-3e8e-4115-bf08-14da95794405"
      },
      "source": [
        "predictions_df = predictions.toPandas()\n",
        "predictions_df.head()"
      ],
      "execution_count": null,
      "outputs": [
        {
          "output_type": "execute_result",
          "data": {
            "text/html": [
              "<div>\n",
              "<style scoped>\n",
              "    .dataframe tbody tr th:only-of-type {\n",
              "        vertical-align: middle;\n",
              "    }\n",
              "\n",
              "    .dataframe tbody tr th {\n",
              "        vertical-align: top;\n",
              "    }\n",
              "\n",
              "    .dataframe thead th {\n",
              "        text-align: right;\n",
              "    }\n",
              "</style>\n",
              "<table border=\"1\" class=\"dataframe\">\n",
              "  <thead>\n",
              "    <tr style=\"text-align: right;\">\n",
              "      <th></th>\n",
              "      <th>Gender</th>\n",
              "      <th>Age</th>\n",
              "      <th>Annual Income (k$)</th>\n",
              "      <th>Spending Score (1-100)</th>\n",
              "      <th>features</th>\n",
              "      <th>prediction</th>\n",
              "    </tr>\n",
              "  </thead>\n",
              "  <tbody>\n",
              "    <tr>\n",
              "      <th>0</th>\n",
              "      <td>0</td>\n",
              "      <td>19</td>\n",
              "      <td>15</td>\n",
              "      <td>39</td>\n",
              "      <td>[0.0, 19.0, 15.0, 39.0]</td>\n",
              "      <td>4</td>\n",
              "    </tr>\n",
              "    <tr>\n",
              "      <th>1</th>\n",
              "      <td>0</td>\n",
              "      <td>21</td>\n",
              "      <td>15</td>\n",
              "      <td>81</td>\n",
              "      <td>[0.0, 21.0, 15.0, 81.0]</td>\n",
              "      <td>0</td>\n",
              "    </tr>\n",
              "    <tr>\n",
              "      <th>2</th>\n",
              "      <td>1</td>\n",
              "      <td>20</td>\n",
              "      <td>16</td>\n",
              "      <td>6</td>\n",
              "      <td>[1.0, 20.0, 16.0, 6.0]</td>\n",
              "      <td>4</td>\n",
              "    </tr>\n",
              "    <tr>\n",
              "      <th>3</th>\n",
              "      <td>1</td>\n",
              "      <td>23</td>\n",
              "      <td>16</td>\n",
              "      <td>77</td>\n",
              "      <td>[1.0, 23.0, 16.0, 77.0]</td>\n",
              "      <td>0</td>\n",
              "    </tr>\n",
              "    <tr>\n",
              "      <th>4</th>\n",
              "      <td>1</td>\n",
              "      <td>31</td>\n",
              "      <td>17</td>\n",
              "      <td>40</td>\n",
              "      <td>[1.0, 31.0, 17.0, 40.0]</td>\n",
              "      <td>4</td>\n",
              "    </tr>\n",
              "  </tbody>\n",
              "</table>\n",
              "</div>"
            ],
            "text/plain": [
              "   Gender  Age  ...                 features  prediction\n",
              "0       0   19  ...  [0.0, 19.0, 15.0, 39.0]           4\n",
              "1       0   21  ...  [0.0, 21.0, 15.0, 81.0]           0\n",
              "2       1   20  ...   [1.0, 20.0, 16.0, 6.0]           4\n",
              "3       1   23  ...  [1.0, 23.0, 16.0, 77.0]           0\n",
              "4       1   31  ...  [1.0, 31.0, 17.0, 40.0]           4\n",
              "\n",
              "[5 rows x 6 columns]"
            ]
          },
          "metadata": {
            "tags": []
          },
          "execution_count": 30
        }
      ]
    },
    {
      "cell_type": "code",
      "metadata": {
        "colab": {
          "base_uri": "https://localhost:8080/"
        },
        "id": "rflwYbHX3IyC",
        "outputId": "ae005177-a600-4ed1-a628-e4d85edc0a32"
      },
      "source": [
        "predictions_df[predictions_df[\"prediction\"] == 0][\"Annual Income (k$)\"].values"
      ],
      "execution_count": null,
      "outputs": [
        {
          "output_type": "execute_result",
          "data": {
            "text/plain": [
              "array([15, 16, 17, 18, 19, 19, 20, 20, 21, 23, 24, 25, 28, 28, 29, 30, 33,\n",
              "       33, 34, 37, 38, 39, 39, 40, 40, 40, 42, 43, 46, 46, 48, 48, 54, 54,\n",
              "       54, 57, 59, 60, 61, 62, 63, 64, 65, 65])"
            ]
          },
          "metadata": {
            "tags": []
          },
          "execution_count": 31
        }
      ]
    },
    {
      "cell_type": "code",
      "metadata": {
        "id": "1oSe-BQO3Mzu"
      },
      "source": [
        "from IPython import get_ipython\n",
        "get_ipython().run_line_magic('matplotlib', 'inline')\n"
      ],
      "execution_count": null,
      "outputs": []
    },
    {
      "cell_type": "code",
      "metadata": {
        "id": "t37RhTYP3PNk"
      },
      "source": [
        "zero_income = predictions_df[predictions_df[\"prediction\"] == 0][\"Annual Income (k$)\"].values\n",
        "zero_spendingScore = predictions_df[predictions_df[\"prediction\"] == 0][\"Spending Score (1-100)\"].values\n",
        "\n",
        "one_income = predictions_df[predictions_df[\"prediction\"] == 1][\"Annual Income (k$)\"].values\n",
        "one_spendingScore = predictions_df[predictions_df[\"prediction\"] == 1][\"Spending Score (1-100)\"].values\n",
        "\n",
        "two_income = predictions_df[predictions_df[\"prediction\"] == 2][\"Annual Income (k$)\"].values\n",
        "two_spendingScore = predictions_df[predictions_df[\"prediction\"] == 2][\"Spending Score (1-100)\"].values\n",
        "\n",
        "three_income = predictions_df[predictions_df[\"prediction\"] == 3][\"Annual Income (k$)\"].values\n",
        "three_spendingScore = predictions_df[predictions_df[\"prediction\"] == 3][\"Spending Score (1-100)\"].values\n",
        "\n",
        "four_income = predictions_df[predictions_df[\"prediction\"] == 4][\"Annual Income (k$)\"].values\n",
        "four_spendingScore = predictions_df[predictions_df[\"prediction\"] == 4][\"Spending Score (1-100)\"].values"
      ],
      "execution_count": null,
      "outputs": []
    },
    {
      "cell_type": "code",
      "metadata": {
        "id": "rNUx1WOw3RvX",
        "colab": {
          "base_uri": "https://localhost:8080/",
          "height": 571
        },
        "outputId": "6137ef44-056c-49db-bcae-94ca629b3ece"
      },
      "source": [
        "from matplotlib.pyplot import figure\n",
        "\n",
        "fig = figure(figsize=(12,8), dpi=80)\n",
        "plt.scatter(zero_income,zero_spendingScore,s=100,c='pink',label='miser')\n",
        "plt.scatter(one_income,one_spendingScore,s=100,c='yellow',label='general')\n",
        "plt.scatter(two_income,two_spendingScore,s=100,c='cyan',label='target')\n",
        "plt.scatter(three_income,three_spendingScore,s=100,c='magenta',label='spendthrift')\n",
        "plt.scatter(four_income,four_spendingScore,s=100,c='orange',label='careful')\n",
        "plt.scatter(centers[\"Annual Income (k$)\"],centers[\"Spending Score (1-100)\"],s=50,c='blue',label='centroid')\n",
        "\n",
        "plt.style.use('fivethirtyeight')\n",
        "plt.title('K Means Clustering', fontsize = 20)\n",
        "plt.xlabel('Annual Income')\n",
        "plt.ylabel('Spending Score')\n",
        "plt.legend()\n",
        "plt.grid()\n",
        "plt.show()"
      ],
      "execution_count": null,
      "outputs": [
        {
          "output_type": "display_data",
          "data": {
            "image/png": "[encoded data removed]",
            "text/plain": [
              "<Figure size 960x640 with 1 Axes>"
            ]
          },
          "metadata": {
            "tags": [],
            "needs_background": "light"
          }
        }
      ]
    },
    {
      "cell_type": "code",
      "metadata": {
        "id": "EUs7cK9d3Uy3"
      },
      "source": [
        ""
      ],
      "execution_count": null,
      "outputs": []
    }
  ]
}